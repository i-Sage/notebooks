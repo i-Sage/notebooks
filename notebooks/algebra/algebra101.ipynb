{
 "cells": [
  {
   "cell_type": "markdown",
   "id": "ef969264",
   "metadata": {},
   "source": [
    "### Linear Equations and Linear Algebra\n",
    "\n",
    "| Task | SymPy Function |\n",
    "|------|----------------|\n",
    "| Solve single equation | `sympy.solve()`|\n",
    "| Solve system of equations | `sympy.solve()` or `sympy.linsolve()`|\n",
    "| Solve matrix system $Ax=b$ | `A.LUsolve(b)`|\n",
    "| Parametric solution set | `linsolve()`|\n"
   ]
  },
  {
   "cell_type": "code",
   "execution_count": 1,
   "id": "a7348fbb",
   "metadata": {},
   "outputs": [
    {
     "data": {
      "text/plain": [
       "[3]"
      ]
     },
     "execution_count": 1,
     "metadata": {},
     "output_type": "execute_result"
    }
   ],
   "source": [
    "import sympy as sp\n",
    "from sympy import symbols, Eq, solve, Matrix, linsolve\n",
    "from sympy.abc import x\n",
    "\n",
    "eq = Eq(3*x + 2, 11)\n",
    "sol = solve(eq, x)\n",
    "sol\n"
   ]
  },
  {
   "cell_type": "code",
   "execution_count": 2,
   "id": "f200ebc8",
   "metadata": {},
   "outputs": [
    {
     "data": {
      "text/plain": [
       "{x: 4/3, y: -5/3}"
      ]
     },
     "execution_count": 2,
     "metadata": {},
     "output_type": "execute_result"
    }
   ],
   "source": [
    "import sympy as sp\n",
    "from sympy.abc import x, y\n",
    "from sympy import Eq, solve\n",
    "\n",
    "eq1 = Eq(2*x + y, 1)\n",
    "eq2 = Eq(  x - y, 3)\n",
    "sol = solve((eq1, eq2), (x, y))\n",
    "sol"
   ]
  },
  {
   "cell_type": "code",
   "execution_count": 3,
   "id": "d949cef3",
   "metadata": {},
   "outputs": [
    {
     "data": {
      "text/latex": [
       "$\\displaystyle \\left[\\begin{matrix}\\frac{4}{3}\\\\- \\frac{5}{3}\\end{matrix}\\right]$"
      ],
      "text/plain": [
       "Matrix([\n",
       "[ 4/3],\n",
       "[-5/3]])"
      ]
     },
     "execution_count": 3,
     "metadata": {},
     "output_type": "execute_result"
    }
   ],
   "source": [
    "from sympy import Eq, solve, Matrix\n",
    "\n",
    "A = Matrix([[2,  1],\n",
    "            [1 ,-1]])\n",
    "\n",
    "b = Matrix([1, 3])\n",
    "A.LUsolve(b)"
   ]
  },
  {
   "cell_type": "code",
   "execution_count": 4,
   "id": "aae0cec4",
   "metadata": {},
   "outputs": [
    {
     "data": {
      "text/latex": [
       "$\\displaystyle \\emptyset$"
      ],
      "text/plain": [
       "EmptySet"
      ]
     },
     "execution_count": 4,
     "metadata": {},
     "output_type": "execute_result"
    }
   ],
   "source": [
    "from sympy import linsolve\n",
    "from sympy.abc import x, y\n",
    "\n",
    "sol = linsolve([2*x + y - 1,\n",
    "            x - y - 3], x, y)\n",
    "\n",
    "# a system with no solution\n",
    "linsolve([x + y - 1, \n",
    "          2*x + 2*y - 3], x, y)\n"
   ]
  },
  {
   "cell_type": "markdown",
   "id": "21f5e431",
   "metadata": {},
   "source": [
    "As our first example, lets solve a 3x3 system of equations\n",
    "$$\n",
    "\\left\\{\n",
    "\\begin{array}{rcl}\n",
    "x  + 2y + 2z &=& 14 \\\\\n",
    "2x + y  + z  &=& 10  \\\\\n",
    "3x + 2y + z  &=& 14\n",
    "\\end{array}\n",
    "\\right.\n",
    "$$"
   ]
  },
  {
   "cell_type": "code",
   "execution_count": 5,
   "id": "4397fbef",
   "metadata": {},
   "outputs": [
    {
     "data": {
      "text/latex": [
       "$\\displaystyle \\left[\\begin{matrix}3\\\\1\\\\3\\end{matrix}\\right]$"
      ],
      "text/plain": [
       "Matrix([\n",
       "[3],\n",
       "[1],\n",
       "[3]])"
      ]
     },
     "execution_count": 5,
     "metadata": {},
     "output_type": "execute_result"
    }
   ],
   "source": [
    "from sympy import Matrix\n",
    "\n",
    "A = Matrix([[1, 2, 3],\n",
    "            [2, 1, 1],\n",
    "            [3, 2, 1]])\n",
    "\n",
    "b = Matrix([14,\n",
    "            10,\n",
    "            14])\n",
    "\n",
    "A.LUsolve(b)"
   ]
  },
  {
   "cell_type": "markdown",
   "id": "23f87c7b",
   "metadata": {},
   "source": [
    "Symbolic Matrices"
   ]
  },
  {
   "cell_type": "code",
   "execution_count": 6,
   "id": "9961de26",
   "metadata": {},
   "outputs": [
    {
     "data": {
      "text/latex": [
       "$\\displaystyle \\left[\\begin{matrix}1 & 0 & 0 & \\frac{R_{1} e i - R_{1} f h - R_{2} b i + R_{2} c h + R_{3} b f - R_{3} c e}{a e i - a f h - b d i + b f g + c d h - c e g}\\\\0 & 1 & 0 & \\frac{- R_{1} d i + R_{1} f g + R_{2} a i - R_{2} c g - R_{3} a f + R_{3} c d}{a e i - a f h - b d i + b f g + c d h - c e g}\\\\0 & 0 & 1 & \\frac{R_{1} d h - R_{1} e g - R_{2} a h + R_{2} b g + R_{3} a e - R_{3} b d}{a e i - a f h - b d i + b f g + c d h - c e g}\\end{matrix}\\right]$"
      ],
      "text/plain": [
       "Matrix([\n",
       "[1, 0, 0,  (R1*e*i - R1*f*h - R2*b*i + R2*c*h + R3*b*f - R3*c*e)/(a*e*i - a*f*h - b*d*i + b*f*g + c*d*h - c*e*g)],\n",
       "[0, 1, 0, (-R1*d*i + R1*f*g + R2*a*i - R2*c*g - R3*a*f + R3*c*d)/(a*e*i - a*f*h - b*d*i + b*f*g + c*d*h - c*e*g)],\n",
       "[0, 0, 1,  (R1*d*h - R1*e*g - R2*a*h + R2*b*g + R3*a*e - R3*b*d)/(a*e*i - a*f*h - b*d*i + b*f*g + c*d*h - c*e*g)]])"
      ]
     },
     "execution_count": 6,
     "metadata": {},
     "output_type": "execute_result"
    }
   ],
   "source": [
    "from sympy import Matrix, symbols\n",
    "from sympy.abc import a, b, c, d, e, f, g, h, i\n",
    "\n",
    "R1, R2, R3 = symbols('R1 R2 R3')\n",
    "\n",
    "A = Matrix([[a, b, c],\n",
    "            [d, e, f],\n",
    "            [g, h, i]])\n",
    "\n",
    "b = Matrix([R1,\n",
    "            R2,\n",
    "            R3])\n",
    "\n",
    "# We can also obtain the row-reduced echelon form\n",
    "aug_mat = A.row_join(b)\n",
    "rref_mat, pivots = aug_mat.rref()\n",
    "rref_mat"
   ]
  },
  {
   "cell_type": "code",
   "execution_count": 7,
   "id": "6cc9d1d7",
   "metadata": {},
   "outputs": [
    {
     "data": {
      "text/latex": [
       "$\\displaystyle V \\left(s^{2} + 2 s + 1\\right)$"
      ],
      "text/plain": [
       "V*(s**2 + 2*s + 1)"
      ]
     },
     "execution_count": 7,
     "metadata": {},
     "output_type": "execute_result"
    }
   ],
   "source": [
    "import sympy as sp\n",
    "from sympy.abc import s, V\n",
    "from sympy import Matrix\n",
    "\n",
    "A = Matrix([[s+2, -1,  -1],\n",
    "            [ -1, s+1, -s],\n",
    "            [ -1, -s,  2*s+1]])\n",
    "b = Matrix([0,\n",
    "            V,\n",
    "            0])\n",
    "\n",
    "Δ = A.det().factor(s)\n",
    "\n",
    "_a = A.copy()\n",
    "_a[:, 1] = b\n",
    "\n",
    "Δ2 = _a.det().factor(s)\n",
    "Δ2\n",
    "\n",
    "__a = A.copy()\n",
    "__a[:, 2] = b\n",
    "Δ3 = __a.det().factor(V)\n",
    "Δ3"
   ]
  },
  {
   "cell_type": "code",
   "execution_count": 8,
   "id": "175c975b",
   "metadata": {},
   "outputs": [
    {
     "data": {
      "text/latex": [
       "$\\displaystyle 0$"
      ],
      "text/plain": [
       "0"
      ]
     },
     "execution_count": 8,
     "metadata": {},
     "output_type": "execute_result"
    }
   ],
   "source": [
    "import sympy as sp\n",
    "from sympy.abc import A, n, D\n",
    "\n",
    "\n",
    "expr1 = (A/(n*sp.pi)) * (1 - sp.cos(2*sp.pi * n * D))\n",
    "expr2 = (2*A/(sp.pi * n)) * sp.sin(sp.pi*n*D)**2\n",
    "\n",
    "sp.simplify(expr1 - expr2)"
   ]
  },
  {
   "cell_type": "code",
   "execution_count": 35,
   "id": "5e42e976",
   "metadata": {},
   "outputs": [
    {
     "data": {
      "text/latex": [
       "$\\displaystyle \\frac{Vo}{Vi}$"
      ],
      "text/plain": [
       "Vo/Vi"
      ]
     },
     "execution_count": 35,
     "metadata": {},
     "output_type": "execute_result"
    }
   ],
   "source": [
    "import sympy as sp\n",
    "from sympy import Eq, solve\n",
    "\n",
    "R1, R2, C1, C2, s, I1, I2, Vi, Vo = sp.symbols('R1 R2 C1 C2 s I1 I2 Vi Vo')\n",
    "\n",
    "eqn1 = Eq((R1 + 1/(s*C2))*I1 - 1/(s*C2)*I2, Vi)\n",
    "eqn2 = Eq((-1/(s*C2))*I1 + (R2 + 1/(s*C1) + 1/(s*C2))*I2, Vo)\n",
    "\n",
    "solution = solve([eqn1, eqn2], (I1, I2))\n",
    "Eq1 = eqn1.subs(solution)\n",
    "Eq2 = eqn2.subs(solution)\n",
    "TF = Eq2.lhs/Eq1.lhs\n",
    "TF.simplify()"
   ]
  }
 ],
 "metadata": {
  "kernelspec": {
   "display_name": "venv",
   "language": "python",
   "name": "python3"
  },
  "language_info": {
   "codemirror_mode": {
    "name": "ipython",
    "version": 3
   },
   "file_extension": ".py",
   "mimetype": "text/x-python",
   "name": "python",
   "nbconvert_exporter": "python",
   "pygments_lexer": "ipython3",
   "version": "3.12.3"
  }
 },
 "nbformat": 4,
 "nbformat_minor": 5
}
