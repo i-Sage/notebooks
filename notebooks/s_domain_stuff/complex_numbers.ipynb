{
 "cells": [
  {
   "cell_type": "markdown",
   "id": "f61b71f9",
   "metadata": {},
   "source": [
    "#### Complex Numbers\n",
    "Sympy handles the imaginary unit with `I`.\n",
    "- `I` for the Imaginary Unit.\n",
    "- `re(expr)` and `im(expr)` to extract real and imaginary parts.\n",
    "- `.conjugate()` for complex conjugates.\n",
    "- `.abs()` or `Abs(expr)` for magnitude (modulus)"
   ]
  },
  {
   "cell_type": "code",
   "execution_count": null,
   "id": "144fc90e",
   "metadata": {},
   "outputs": [
    {
     "data": {
      "text/latex": [
       "$\\displaystyle 25$"
      ],
      "text/plain": [
       "25"
      ]
     },
     "execution_count": 7,
     "metadata": {},
     "output_type": "execute_result"
    }
   ],
   "source": [
    "import sympy as sp\n",
    "from sympy import I\n",
    "from sympy.abc import z\n",
    "\n",
    "z = 3 + 4*I\n"
   ]
  }
 ],
 "metadata": {
  "kernelspec": {
   "display_name": "venv",
   "language": "python",
   "name": "python3"
  },
  "language_info": {
   "codemirror_mode": {
    "name": "ipython",
    "version": 3
   },
   "file_extension": ".py",
   "mimetype": "text/x-python",
   "name": "python",
   "nbconvert_exporter": "python",
   "pygments_lexer": "ipython3",
   "version": "3.12.3"
  }
 },
 "nbformat": 4,
 "nbformat_minor": 5
}
