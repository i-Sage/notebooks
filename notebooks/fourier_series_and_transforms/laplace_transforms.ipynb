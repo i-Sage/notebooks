{
 "cells": [
  {
   "cell_type": "markdown",
   "id": "c5f84fa7",
   "metadata": {},
   "source": [
    "### Getting Started with Laplace Transforms\n",
    "\n",
    "### Sympy Toolbox for Partial Fractions\n",
    "\n",
    "| Function | Purpose | Example |\n",
    "|----------|---------|---------|\n",
    "| `apart()`| Perform partial fraction decomposition | `apart((s + 3)/(s**2 - 1))` |\n",
    "| `together()`| Combine terms into a single rational expression | `together(1/(x - 1) + 1/(x + 1))` |\n",
    "| `cancle()`  | Simplify a rational function (cancle common out factors) | `cancle((x**2 - 1)/(x - 1))` |\n",
    "| `factor()`  | Factor polynomials (useful before `apart()`) | `factor(x**2 - 1)` |\n",
    "| `expand()`  | Expand an expression (inverse of factoring)  | `expand((x - 1)*(x + 1))` |\n",
    "| `integrate()` | Integrate symbolic expressions - great after decomposition | `integrate(apart((x+1)/(x**2 + x), x))` |\n",
    "| `solve()`   | Solve algebraic equations to find constants manually (if needed) | `solve(Eq(expr, other_expr), A)` |\n",
    "| `collect()` | Group terms by a variable | `collect(expr, x)` |\n",
    "| `limit()`   | Compute limits at poles (for checking residue-style partial fractions) | `limit(f*(x - pole), x, pole)` |\n",
    "\n",
    "*Pro Tips*\n",
    "- We can use `apart(expr, x, partial=True)` to force partial fractioning even on weird expressions\n",
    "- `apart()` handles proper fractions best - use `div()` or `divmod()` to break improper fractions into polynomial + proper part first\n",
    "- want to go reverse ? `together()` is your undo button.k\n",
    "\n",
    "\n",
    "#### 1.Partial Fractions: When equations get complex, we divide and conquer.\n",
    "\n",
    "Partial Fraction decomposition is the process of breaking down complex expressions into simpler pieces, kinda like turning a chaotic chord into clean, beautiful notes\n",
    "\n",
    "*Partial fraction decomposition* is exactly that. We are simplifying rational function, reverse-engineering a puzzle that unlocks easier integration, clean Laplace transforms, and the secrets of control systems.\n",
    "\n",
    "##### 1.1 We can think of it like this:\n",
    "We have a complicated rational function: \n",
    "$$\\frac{P(s)}{Q(s)} = \\frac{\\text{crazy stuff}}{\\text{even crazier stuff}}$$\n",
    "\n",
    "Instead of fighting the whole beast at once, we can surgically slice it up into manageable, elegant chunks: \n",
    "$$\\frac{A}{x - r} + \\frac{B}{(x-r)^2} + \\frac{C}{x*2 + 1} + \\cdots$$\n",
    "\n",
    "And just like that, each chunk is integrable, transformable, understandable and controllable.\n",
    "\n",
    "**SO THE VIBE**\n",
    "- Partial Fractions turn \"I can't integrate this\", \"I can't transformable this\", into \"Watch me break this down like Sherlock with a whiteboard.\"\n",
    "\n",
    "##### 1.2 Rules of Partial Fractions\n",
    "- The numerator must be of lower degree than the denominator \n",
    "- Factorise the Denominator into its prime factors. The structure of the denominator, determine the structure of the decompositon\n",
    "- A linear factor $(s + \\alpha)$ gives a partial fraction $$\\frac{A}{s + \\alpha}$$ where $A$ is a constant to be determined.\n",
    "- A repeated factor $(s + \\alpha)^2$ gives: $$\\frac{A}{s + \\alpha} + \\frac{B}{(s + \\alpha)^2}$$\n",
    "- Similarly, $(s + \\alpha)^3$ gives: $$\\frac{A}{s+\\alpha} + \\frac{B}{(s + \\alpha)^2} + \\frac{C}{(s + \\alpha)^3}$$\n",
    "- A quadratic factor $(s^2 + ps + q)$ gives $$\\frac{Ps + Q}{s^2 + ps + q}$$\n",
    "- Repeated quadratic factors $(s^2 + ps + q)^2$ gives: $$\\frac{Ps + Q}{s^2 + ps + q} + \\frac{Rs + T}{(s^2 + ps + q)^2}$$\n",
    "\n",
    "\n",
    "---\n",
    "\n",
    "#### Partial Fraction decomposition with SymPy\n",
    "\n",
    "$$\\frac{9s - 8}{s^2 - 2s}$$\n",
    "$$\\frac{s^2 - 15s + 41}{(s + 2)(s - 3)^2}$$"
   ]
  },
  {
   "cell_type": "code",
   "execution_count": 1,
   "id": "eec52853",
   "metadata": {},
   "outputs": [
    {
     "data": {
      "text/latex": [
       "$\\displaystyle \\frac{5}{s - 2} + \\frac{4}{s}$"
      ],
      "text/plain": [
       "5/(s - 2) + 4/s"
      ]
     },
     "execution_count": 1,
     "metadata": {},
     "output_type": "execute_result"
    }
   ],
   "source": [
    "from sympy.abc import s\n",
    "\n",
    "expr = (9*s - 8)/(s**2 - 2*s)\n",
    "expr.apart()"
   ]
  },
  {
   "cell_type": "code",
   "execution_count": 2,
   "id": "5871ed41",
   "metadata": {},
   "outputs": [
    {
     "data": {
      "text/latex": [
       "$\\displaystyle \\frac{3}{s + 2} - \\frac{2}{s - 3} + \\frac{1}{\\left(s - 3\\right)^{2}}$"
      ],
      "text/plain": [
       "3/(s + 2) - 2/(s - 3) + (s - 3)**(-2)"
      ]
     },
     "execution_count": 2,
     "metadata": {},
     "output_type": "execute_result"
    }
   ],
   "source": [
    "from sympy import apart\n",
    "from sympy.abc import s, t\n",
    "\n",
    "expr = (s**2 - 15*s + 41)/((s + 2)*(s - 3)**2)\n",
    "pf   = apart(expr, s)\n",
    "pf"
   ]
  },
  {
   "cell_type": "code",
   "execution_count": null,
   "id": "f1f96fd7",
   "metadata": {},
   "outputs": [],
   "source": []
  },
  {
   "cell_type": "code",
   "execution_count": 3,
   "id": "9092ecde",
   "metadata": {},
   "outputs": [
    {
     "data": {
      "text/latex": [
       "$\\displaystyle \\operatorname{Vc}{\\left(t \\right)} = - \\frac{C R \\cos{\\left(t \\right)}}{C^{2} R^{2} + 1} + C_{1} e^{- \\frac{t}{C R}} + \\frac{\\sin{\\left(t \\right)}}{C^{2} R^{2} + 1}$"
      ],
      "text/plain": [
       "Eq(Vc(t), -C*R*cos(t)/(C**2*R**2 + 1) + C1*exp(-t/(C*R)) + sin(t)/(C**2*R**2 + 1))"
      ]
     },
     "execution_count": 3,
     "metadata": {},
     "output_type": "execute_result"
    }
   ],
   "source": [
    "import sympy as sp\n",
    "from sympy import laplace_transform, inverse_laplace_transform, Heaviside\n",
    "\n",
    "t, R, C = sp.symbols('t R C', real=True, positive=True)\n",
    "τ = R*C\n",
    "Va, Vc, Vo = sp.symbols('Va Vc Vo')\n",
    "\n",
    "# s-domain approach\n",
    "Vc = (Va/τ) / (s*(s+1/τ)) + Vo/(s + 1/τ)\n",
    "Vc = inverse_laplace_transform(Vc, s, t).expand()\n",
    "s_domain_solution = sp.collect(Vc, sp.exp(-t/τ))\n",
    "\n",
    "# classical approach\n",
    "Va, Vc, Vo = [sp.Function(name)(t) for name in ('Va', 'Vc', 'Vo')]\n",
    "eq = sp.Eq(R*C*sp.Derivative(Vc, t) + Vc, sp.sin(t))\n",
    "t_domain_solution = sp.dsolve(eq, Vc)\n",
    "t_domain_solution"
   ]
  },
  {
   "cell_type": "code",
   "execution_count": 7,
   "id": "0eacf721",
   "metadata": {},
   "outputs": [
    {
     "data": {
      "text/latex": [
       "$\\displaystyle \\frac{Cf Rf s + Cs Rf s + 1}{Cs s \\left(Cf Rf s + 1\\right)}$"
      ],
      "text/plain": [
       "(Cf*Rf*s + Cs*Rf*s + 1)/(Cs*s*(Cf*Rf*s + 1))"
      ]
     },
     "execution_count": 7,
     "metadata": {},
     "output_type": "execute_result"
    }
   ],
   "source": [
    "Rf, Cf, Cs = sp.symbols('Rf Cf Cs')\n",
    "expr = Rf/(1 + (s*Rf*Cf)) + 1/(s*Cs)\n",
    "expr.factor()"
   ]
  }
 ],
 "metadata": {
  "kernelspec": {
   "display_name": "venv",
   "language": "python",
   "name": "python3"
  },
  "language_info": {
   "codemirror_mode": {
    "name": "ipython",
    "version": 3
   },
   "file_extension": ".py",
   "mimetype": "text/x-python",
   "name": "python",
   "nbconvert_exporter": "python",
   "pygments_lexer": "ipython3",
   "version": "3.12.3"
  }
 },
 "nbformat": 4,
 "nbformat_minor": 5
}
